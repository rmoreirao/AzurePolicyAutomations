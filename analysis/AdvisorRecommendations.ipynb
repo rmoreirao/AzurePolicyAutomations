{
 "cells": [
  {
   "cell_type": "markdown",
   "metadata": {},
   "source": [
    "### Import Required Libraries\n",
    "Import the necessary libraries, such as pandas, numpy, and matplotlib."
   ]
  },
  {
   "cell_type": "code",
   "execution_count": null,
   "metadata": {},
   "outputs": [],
   "source": [
    "# Import Required Libraries\n",
    "import pandas as pd\n",
    "import numpy as np\n",
    "import matplotlib.pyplot as plt\n",
    "\n",
    "pd.set_option('display.max_rows', 100)  # Set the maximum number of rows to display\n",
    "pd.set_option('display.max_columns', None)  # Ensure all columns are displayed\n",
    "\n",
    "# Enable inline plotting for matplotlib\n",
    "%matplotlib inline"
   ]
  },
  {
   "cell_type": "markdown",
   "metadata": {},
   "source": [
    "# Load the Dataset\n",
    "Load the dataset into a pandas DataFrame."
   ]
  },
  {
   "cell_type": "code",
   "execution_count": null,
   "metadata": {},
   "outputs": [],
   "source": [
    "# Load the Dataset\n",
    "data = pd.read_csv('../output/advisorRecommendations.csv')  # Replace with your dataset path\n",
    "\n",
    "# filter where category is 'Cost' and impact is 'Low'\n",
    "# data[(data['category'] == 'Cost') & (data['impact'] == 'Low')].head\n",
    "\n",
    "data.head()  # Display the first few rows of the dataset"
   ]
  },
  {
   "cell_type": "markdown",
   "metadata": {},
   "source": [
    "# Explore the Dataset\n",
    "Perform initial exploration of the dataset, including checking for missing values and basic statistics."
   ]
  },
  {
   "cell_type": "code",
   "execution_count": null,
   "metadata": {},
   "outputs": [],
   "source": [
    "# Explore the Dataset\n",
    "\n",
    "# Check for missing values in the dataset\n",
    "missing_values = data.isnull().sum()\n",
    "print(\"Missing values in each column:\\n\", missing_values)\n",
    "\n",
    "# Display basic statistics of the dataset\n",
    "basic_stats = data.describe()\n",
    "print(\"\\nBasic statistics of the dataset:\\n\", basic_stats)\n",
    "\n",
    "# Display the data types of each column\n",
    "data_types = data.dtypes\n",
    "print(\"\\nData types of each column:\\n\", data_types)\n",
    "\n",
    "# Display the shape of the dataset\n",
    "data_shape = data.shape\n",
    "print(\"\\nShape of the dataset:\", data_shape)"
   ]
  },
  {
   "cell_type": "markdown",
   "metadata": {},
   "source": [
    "### Analysis 1 - Recommendations per Category"
   ]
  },
  {
   "cell_type": "code",
   "execution_count": null,
   "metadata": {},
   "outputs": [],
   "source": [
    "# Prompt: Create a summary of of the dataset with the columns: Category, HighPriority, MediumPriority, LowPriority, and TotalRecommendations. Also add a row at the end that shows the sum of each column.\n",
    "\n",
    "# Create a summary DataFrame\n",
    "summary_df = data.groupby('category').agg(\n",
    "    HighPriority=('impact', lambda x: (x == 'High').sum()),\n",
    "    MediumPriority=('impact', lambda x: (x == 'Medium').sum()),\n",
    "    LowPriority=('impact', lambda x: (x == 'Low').sum())\n",
    ").reset_index()\n",
    "\n",
    "# Calculate the total recommendations for each category\n",
    "summary_df['TotalRecommendations'] = summary_df[['HighPriority', 'MediumPriority', 'LowPriority']].sum(axis=1)\n",
    "\n",
    "# Add a row at the end that shows the sum of each column\n",
    "total_row = pd.DataFrame(summary_df[['HighPriority', 'MediumPriority', 'LowPriority', 'TotalRecommendations']].sum()).T\n",
    "total_row['category'] = 'Total'\n",
    "summary_df = pd.concat([summary_df, total_row], ignore_index=True)\n",
    "\n",
    "# Display the summary DataFrame\n",
    "summary_df\n"
   ]
  },
  {
   "cell_type": "code",
   "execution_count": null,
   "metadata": {},
   "outputs": [],
   "source": [
    "# Define colors for each impact level\n",
    "colors = {'High': 'red', 'Medium': 'orange', 'Low': 'blue'}\n",
    "\n",
    "# Filter summary_df to remove the row where category is 'Total'\n",
    "category_impact_counts = summary_df[summary_df['category'] != 'Total']\n",
    "\n",
    "category_impact_counts = category_impact_counts.set_index('category')[['HighPriority', 'MediumPriority', 'LowPriority']]\n",
    "\n",
    "# Reorder the columns to ensure the order of impact is High, Medium, and Low\n",
    "category_impact_counts = category_impact_counts[['HighPriority', 'MediumPriority', 'LowPriority']]\n",
    "\n",
    "# Plot the data with horizontal bars\n",
    "category_impact_counts.plot(kind='barh', stacked=True, figsize=(13, 4), color=[colors[col.split('Priority')[0]] for col in category_impact_counts.columns])\n",
    "plt.title('Count per Category and per Impact')\n",
    "plt.xlabel('Count')\n",
    "plt.ylabel('Category')\n",
    "plt.legend(title='Impact')\n",
    "plt.show()\n",
    "\n",
    "# clean up the memory category_impact_counts\n",
    "del category_impact_counts"
   ]
  },
  {
   "cell_type": "markdown",
   "metadata": {},
   "source": [
    "### Analysis for Cost Recommendations"
   ]
  },
  {
   "cell_type": "code",
   "execution_count": null,
   "metadata": {},
   "outputs": [],
   "source": [
    "# Create a summary DataFrame\n",
    "summary_cost_df = data[data['category'] == 'Cost']\n",
    "\n"
   ]
  },
  {
   "cell_type": "code",
   "execution_count": null,
   "metadata": {},
   "outputs": [],
   "source": [
    "# Group by impact and calculate the sum of annualSavingsAmount\n",
    "print(\"Total annual savings amount for each impact level:\")\n",
    "summary_cost_df.groupby('impact')['annualSavingsAmount'].sum()"
   ]
  },
  {
   "cell_type": "code",
   "execution_count": null,
   "metadata": {},
   "outputs": [],
   "source": [
    "# Group by \"impact\" and \"problem\" and sum the \"annualSavingsAmount\"\n",
    "grouped_summary = summary_cost_df.groupby(['impact', 'problem'])['annualSavingsAmount'].sum().reset_index()\n",
    "\n",
    "# Format \"annualSavingsAmount\" as money\n",
    "grouped_summary['annualSavingsAmount'] = grouped_summary['annualSavingsAmount'].apply(lambda x: \"${:,.2f}\".format(x))\n",
    "\n",
    "# Calculate the total savings percentage for each problem\n",
    "grouped_summary['TotalSavingsPct'] = (grouped_summary['annualSavingsAmount'].str.replace('$', '').str.replace(',', '').astype(float) / grouped_summary['annualSavingsAmount'].str.replace('$', '').str.replace(',', '').astype(float).sum()) * 100\n",
    "\n",
    "# Sort the grouped summary by the TotalSavingsPct column in descending order\n",
    "grouped_summary = grouped_summary.sort_values(by='TotalSavingsPct', ascending=False)\n",
    "\n",
    "# Display the updated grouped summary\n",
    "grouped_summary"
   ]
  },
  {
   "cell_type": "markdown",
   "metadata": {},
   "source": [
    "### Recommendations per Subscription"
   ]
  },
  {
   "cell_type": "code",
   "execution_count": null,
   "metadata": {},
   "outputs": [],
   "source": [
    "# Create a dataframe that counts all the different recommendation categories per subscription\n",
    "subscription_category_counts = data.groupby(['subscriptionName', 'category']).size().unstack(fill_value=0).reset_index()\n",
    "\n",
    "# Add a column TotalRecommendations at the end\n",
    "numeric_columns = subscription_category_counts.select_dtypes(include=[np.number]).columns\n",
    "subscription_category_counts['TotalRecommendations'] = subscription_category_counts[numeric_columns].sum(axis=1)\n",
    "\n",
    "# Sort by TotalRecommendations\n",
    "subscription_category_counts = subscription_category_counts.sort_values(by='TotalRecommendations', ascending=False)\n",
    "\n",
    "# drop column category\n",
    "# subscription_category_counts.drop(columns='category', inplace=True, axis=1)\n",
    "\n",
    "# Display the dataframe\n",
    "subscription_category_counts.head(100)"
   ]
  },
  {
   "cell_type": "code",
   "execution_count": null,
   "metadata": {},
   "outputs": [],
   "source": []
  }
 ],
 "metadata": {
  "kernelspec": {
   "display_name": "base",
   "language": "python",
   "name": "python3"
  },
  "language_info": {
   "codemirror_mode": {
    "name": "ipython",
    "version": 3
   },
   "file_extension": ".py",
   "mimetype": "text/x-python",
   "name": "python",
   "nbconvert_exporter": "python",
   "pygments_lexer": "ipython3",
   "version": "3.12.7"
  }
 },
 "nbformat": 4,
 "nbformat_minor": 2
}
