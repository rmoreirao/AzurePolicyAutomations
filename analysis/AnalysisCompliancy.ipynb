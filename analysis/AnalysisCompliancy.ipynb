{
 "cells": [
  {
   "cell_type": "markdown",
   "id": "42373d01",
   "metadata": {},
   "source": [
    "### Load all Dataframes"
   ]
  },
  {
   "cell_type": "code",
   "execution_count": null,
   "id": "bfe9aeb0",
   "metadata": {},
   "outputs": [],
   "source": [
    "import pandas as pd\n",
    "\n",
    "# Read the CSV files into dataframes\n",
    "policy_assignments_df = pd.read_csv('../output/policyAssignments.csv')\n",
    "export_users_df = pd.read_csv('../output/exportUsers_2025-1-23.csv')\n",
    "policy_definitions_df = pd.read_csv('../output/policyDefinitions.csv')\n",
    "initiave_policies_df = pd.read_csv('../output/initiativePolicies.csv')\n",
    "management_groups_df = pd.read_csv('../output/managementGroups.csv')\n",
    "\n",
    "# Display the dataframes\n",
    "# print(policy_assignments_df.head())\n",
    "# print(export_users_df.head())\n",
    "# policy_assignments_df.head()\n"
   ]
  },
  {
   "cell_type": "code",
   "execution_count": null,
   "id": "32b29913",
   "metadata": {},
   "outputs": [],
   "source": [
    "# merge with ManagementGroup DF - \"Scope\" column from initiave_policies_df and \"id\" column from management_groups_df. Only retrieve columns \"properties_displayName\" and \"mgParent_displayName\"\n",
    "policy_assignments_analysis_df = pd.merge(policy_assignments_df, management_groups_df[['id', 'properties_displayName', 'parentDisplayName']], left_on='Scope', right_on='id', how='left')\n",
    "policy_assignments_analysis_df.drop('id', axis=1, inplace=True)\n",
    "\n",
    "# Merge the dataframes adding user to the Policy Assignment sheet. The column ID of the Users sheet is the same as the column CreatedBy of the Policy Assignment sheet\n",
    "policy_assignments_analysis_df = pd.merge(policy_assignments_analysis_df, export_users_df[['id', 'displayName']], left_on='createdBy', right_on='id', how='left')\n",
    "policy_assignments_analysis_df.drop(['id','createdBy'], axis=1, inplace=True)\n",
    "\n",
    "# Merge with policy_definitions_df - \"Policy Name\" column with column \"Name\" from policy_definitions_df. Only retrieve the columns \"Category\" \"AvailableEffects\"\t\"Description\"\n",
    "policy_assignments_analysis_df = pd.merge(policy_assignments_analysis_df, policy_definitions_df[['Id','Category', 'AvailableEffects', 'Description']], left_on='policyDefinitionId', right_on='Id', how='left')\n",
    "policy_assignments_analysis_df.drop(['Id'], axis=1, inplace=True)\n",
    "\n",
    "# policy_assignments_analysis_df has 1:N relationship with initiave_policies_df. Merge with initiave_policies_df - \"InitiativeId\" column with column \"Policy Name\" from policy_assignments_analysis_df. Transform all the items of initiative_policies_df into a list and add it to the policy_assignments_analysis_df\n",
    "# Group initiave_policies_df by 'InitiativeId' and aggregate the rows into lists\n",
    "initiative_policies_grouped = initiave_policies_df[['InitiativeId', 'PolicyName']].groupby('InitiativeId').agg(lambda x: '\\n'.join(x)).reset_index()\n",
    "\n",
    "# Merge the grouped initiative_policies_df with policy_assignments_analysis_df\n",
    "policy_assignments_analysis_df = pd.merge(policy_assignments_analysis_df, initiative_policies_grouped, left_on='policyDefinitionId', right_on='InitiativeId', how='left')\n",
    "\n",
    "# Drop the 'InitiativeId' column as it is redundant after the merge\n",
    "policy_assignments_analysis_df.drop(['InitiativeId','policyDefinitionId'], axis=1, inplace=True)\n",
    "\n",
    "# Rename the \"displayName\" column to \"createdByDisplayName\"\n",
    "policy_assignments_analysis_df.rename(columns={'displayName': 'createdByDisplayName', 'Category': 'Policy Category', 'Description': 'Policy Description', 'Type':'Policy Type', 'PolicyName': 'Initiative Policies', 'properties_displayName': 'Mgmt Group'}, inplace=True)\n",
    "\n",
    "\n",
    "# Sort the dataframe by \"Scope Type\"\n",
    "policy_assignments_analysis_df.sort_values(by='Scope Type', inplace=True)\n",
    "\n",
    "# Make sure that policy_assignments_analysis_df lenght is the same \n",
    "assert len(policy_assignments_analysis_df) == len(policy_assignments_df), f\"The length of policy_assignments_analysis_df ({len(policy_assignments_analysis_df)}) does not match the length of policy_assignments_df ({len(policy_assignments_df)})\"\n",
    "\n",
    "# policy_assignments_analysis_df.head()"
   ]
  },
  {
   "cell_type": "markdown",
   "id": "288d6ea3",
   "metadata": {},
   "source": [
    "### Generate the AEP final sheet"
   ]
  },
  {
   "cell_type": "code",
   "execution_count": null,
   "id": "10330b69",
   "metadata": {},
   "outputs": [],
   "source": [
    "# Filter the rows where the \"Scope Name\" contains \"AEP\"\n",
    "policy_assignments_analysis_aep_df = policy_assignments_analysis_df[policy_assignments_analysis_df['Scope Name'].str.contains('AEP', case=False)].copy()\n",
    "\n",
    "# Column \"Scope Name\" = if \"Scope Type\" is \"Management Group\" then \"Mgmt Group\" else \"Scope Name\"\n",
    "policy_assignments_analysis_aep_df.loc[:, 'Scope Name'] = policy_assignments_analysis_aep_df.apply(lambda x: x['Mgmt Group'] if x['Scope Type'] == 'Management Group' else x['Scope Name'], axis=1)\n",
    "\n",
    "# Only keep columns \"Scope Type\", \"Scope Name\", \"Kind\", \"Policy Category\", \"Policy Type\", \"Policy Name\" and \"Initiative Policies\"\n",
    "policy_assignments_analysis_aep_df = policy_assignments_analysis_aep_df[['Scope Type', 'Scope Name', 'Kind', 'Policy Category', 'Policy Type', 'Policy Name', 'Initiative Policies']]\n",
    "\n",
    "# Sort the dataframe by \"Scope Type\"\n",
    "policy_assignments_analysis_aep_df.sort_values(by='Scope Type', inplace=True)\n",
    "\n",
    "# policy_assignments_analysis_aep_df.head()\n"
   ]
  },
  {
   "cell_type": "markdown",
   "id": "5a4d2971",
   "metadata": {},
   "source": [
    "### Write to Excel"
   ]
  },
  {
   "cell_type": "code",
   "execution_count": 22,
   "id": "fe4f63ee",
   "metadata": {},
   "outputs": [],
   "source": [
    "with pd.ExcelWriter('../output/policyAssignmentsAnalysis.xlsx') as writer:\n",
    "    policy_assignments_analysis_aep_df.to_excel(writer, sheet_name='AEP Assignments Analysis', index=False)\n",
    "    policy_assignments_analysis_df.to_excel(writer, sheet_name='Policy Assignments', index=False)\n",
    "    policy_definitions_df.to_excel(writer, sheet_name='Policy Definitions', index=False)\n",
    "    initiave_policies_df.to_excel(writer, sheet_name='Initiative Policies', index=False)\n",
    "    management_groups_df.to_excel(writer, sheet_name='Management Groups', index=False)"
   ]
  },
  {
   "cell_type": "code",
   "execution_count": null,
   "id": "648e42c9",
   "metadata": {},
   "outputs": [],
   "source": []
  }
 ],
 "metadata": {
  "kernelspec": {
   "display_name": "Python 3",
   "language": "python",
   "name": "python3"
  },
  "language_info": {
   "codemirror_mode": {
    "name": "ipython",
    "version": 3
   },
   "file_extension": ".py",
   "mimetype": "text/x-python",
   "name": "python",
   "nbconvert_exporter": "python",
   "pygments_lexer": "ipython3",
   "version": "3.12.9"
  }
 },
 "nbformat": 4,
 "nbformat_minor": 5
}
